{
 "cells": [
  {
   "cell_type": "markdown",
   "metadata": {},
   "source": [
    "# Available sentiment analysis libraries\n",
    "\n",
    "As sentiment analysis is a common issue, many people try to prepare ML-like architectures to address it. Most of these solutions are tried to be generic, so should be applicable in any domain, however that's not always the case.\n",
    "\n",
    "The motivation behind this training is that Codete wanted to use sentiment analysis for one of the showcases we show at different conferences from time to time - it performs a realtime sentiment monitoring of tweets for given phrase and visualizing a global perception of that topic. Surpisingly, some of the best known libraries struggle with such short messages, which are typically incorrect in terms of grammar and linguistic correctness in general. Tweets have a tendency to contain a lot of phrases which don't come from the real language, like acronyms, hashtags, etc. There are also several other issues which are different the ones we have in the official English language. \n",
    "\n",
    "We believe, having a problem to be solved with Machine Learning, should never start with desiging our own model, but with a research if anyone else had a similar problem, and trying to apply their work, if possible. That was also a process we initially conducted, but existing ones didn't work well on our dataset. That's a good reason to design our own one.\n",
    "\n",
    "Nevertheless, if you have to use sentiment analysis in your project, you should keep your eye on the following libraries:\n",
    "\n",
    "## NLTK\n",
    "\n",
    "Python NLTK is a common NLP library and it already has a built-in and trained model for the sentiment analysis. Let's look at the example, as it is quite simple to be used out of the box."
   ]
  },
  {
   "cell_type": "code",
   "execution_count": null,
   "metadata": {},
   "outputs": [],
   "source": [
    "from nltk.sentiment.vader import SentimentIntensityAnalyzer\n",
    "\n",
    "\n",
    "analyzer = SentimentIntensityAnalyzer()\n",
    "analyzer.polarity_score(\"The last game of polish national team was awful\")"
   ]
  },
  {
   "cell_type": "code",
   "execution_count": null,
   "metadata": {},
   "outputs": [],
   "source": []
  }
 ],
 "metadata": {
  "kernelspec": {
   "display_name": "Python 3",
   "language": "python",
   "name": "python3"
  },
  "language_info": {
   "codemirror_mode": {
    "name": "ipython",
    "version": 3
   },
   "file_extension": ".py",
   "mimetype": "text/x-python",
   "name": "python",
   "nbconvert_exporter": "python",
   "pygments_lexer": "ipython3",
   "version": "3.6.5"
  }
 },
 "nbformat": 4,
 "nbformat_minor": 2
}
